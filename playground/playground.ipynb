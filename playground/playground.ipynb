{
 "cells": [
  {
   "cell_type": "code",
   "execution_count": 153,
   "id": "66f669df",
   "metadata": {},
   "outputs": [],
   "source": [
    "import pybiopax\n",
    "from pybiopax.biopax import BioPaxObject\n",
    "from pybiopax.paths import find_objects\n",
    "from typing import List, Tuple\n",
    "import networkx as nx\n",
    "import matplotlib.pyplot as plt\n",
    "from pyvis import network as net\n",
    "from IPython.display import HTML\n",
    "from tabulate import tabulate\n",
    "from networkx.drawing.nx_pydot import graphviz_layout\n",
    "from collections import Counter\n",
    "from ontobio.rdfgen.gocamgen.subgraphs import AnnotationSubgraph\n",
    "import pprint\n",
    "from base import relations, find_relation_meta\n"
   ]
  },
  {
   "cell_type": "code",
   "execution_count": 13,
   "id": "fc8b1249",
   "metadata": {},
   "outputs": [
    {
     "data": {
      "application/vnd.jupyter.widget-view+json": {
       "model_id": "4fa61357363d4d3fb233240bdf797748",
       "version_major": 2,
       "version_minor": 0
      },
      "text/plain": [
       "Processing OWL elements:   0%|          | 0.00/15.0 [00:00<?, ?it/s]"
      ]
     },
     "metadata": {},
     "output_type": "display_data"
    }
   ],
   "source": [
    "biopax_file = './resources/test_biopax/R-HSA-204174_level3.owl'\n",
    "biopax_file = './resources/test_biopax/R-HSA-70171_level3.owl'\n",
    "biopax_file = './resources/test_biopax/LIPASYN-PWY-1.owl'\n",
    "model = pybiopax.model_from_owl_file(biopax_file, encoding=\"utf8\")"
   ]
  },
  {
   "cell_type": "markdown",
   "id": "85f28882",
   "metadata": {},
   "source": [
    "### Check the most common objects and take note on Pathway"
   ]
  },
  {
   "cell_type": "code",
   "execution_count": 54,
   "id": "afb591e9",
   "metadata": {},
   "outputs": [
    {
     "name": "stdout",
     "output_type": "stream",
     "text": [
      "Model has 159 objects\n"
     ]
    },
    {
     "data": {
      "text/html": [
       "<table>\n",
       "<thead>\n",
       "<tr><th>Type                      </th><th style=\"text-align: right;\">  Count</th></tr>\n",
       "</thead>\n",
       "<tbody>\n",
       "<tr><td>UnificationXref           </td><td style=\"text-align: right;\">     90</td></tr>\n",
       "<tr><td>RelationshipXref          </td><td style=\"text-align: right;\">     12</td></tr>\n",
       "<tr><td>SmallMoleculeReference    </td><td style=\"text-align: right;\">      9</td></tr>\n",
       "<tr><td>ChemicalStructure         </td><td style=\"text-align: right;\">      9</td></tr>\n",
       "<tr><td>Stoichiometry             </td><td style=\"text-align: right;\">      9</td></tr>\n",
       "<tr><td>SmallMolecule             </td><td style=\"text-align: right;\">      9</td></tr>\n",
       "<tr><td>BiochemicalReaction       </td><td style=\"text-align: right;\">      3</td></tr>\n",
       "<tr><td>BiochemicalPathwayStep    </td><td style=\"text-align: right;\">      3</td></tr>\n",
       "<tr><td>Catalysis                 </td><td style=\"text-align: right;\">      3</td></tr>\n",
       "<tr><td>Protein                   </td><td style=\"text-align: right;\">      3</td></tr>\n",
       "<tr><td>ProteinReference          </td><td style=\"text-align: right;\">      3</td></tr>\n",
       "<tr><td>CellularLocationVocabulary</td><td style=\"text-align: right;\">      1</td></tr>\n",
       "<tr><td>Provenance                </td><td style=\"text-align: right;\">      1</td></tr>\n",
       "<tr><td>RelationshipTypeVocabulary</td><td style=\"text-align: right;\">      1</td></tr>\n",
       "<tr><td>BioSource                 </td><td style=\"text-align: right;\">      1</td></tr>\n",
       "<tr><td>Pathway                   </td><td style=\"text-align: right;\">      1</td></tr>\n",
       "<tr><td>PublicationXref           </td><td style=\"text-align: right;\">      1</td></tr>\n",
       "</tbody>\n",
       "</table>"
      ],
      "text/plain": [
       "<IPython.core.display.HTML object>"
      ]
     },
     "execution_count": 54,
     "metadata": {},
     "output_type": "execute_result"
    }
   ],
   "source": [
    "type_counter = Counter(\n",
    "    obj.__class__.__name__\n",
    "    for obj in model.objects.values()\n",
    ")\n",
    "\n",
    "print(f\"Model has {sum(type_counter.values()):,} objects\")\n",
    "\n",
    "HTML(tabulate(type_counter.most_common(), tablefmt=\"html\", headers=[\"Type\", \"Count\"]))"
   ]
  },
  {
   "cell_type": "code",
   "execution_count": 15,
   "id": "cd762f69",
   "metadata": {},
   "outputs": [],
   "source": [
    "class GoCAM (AnnotationSubgraph):\n",
    "    def __init__(self):\n",
    "        self.bp_node = None\n",
    "        self.mf_map = {}\n",
    "        super().__init__()\n",
    "\n",
    "    def process_pathway(self, pathway):        \n",
    "            \n",
    "        if pathway.xref:\n",
    "            self.process_bp(pathway.xref)\n",
    "\n",
    "        if pathway.pathway_order:\n",
    "            self.process_step_processes(pathway.pathway_order, pathway)\n",
    "        \n",
    "        if pathway.pathway_component:\n",
    "            self.process_components(pathway.pathway_component, pathway)\n",
    "\n",
    "    \n",
    "    def process_step_processes(self, step_processes, pathway):\n",
    "        for obj in step_processes:\n",
    "            pc = model.objects[obj.uid]\n",
    "            for sp in pc.step_process:\n",
    "                if isinstance(sp, pybiopax.biopax.Catalysis) and sp.control_type == 'ACTIVATION':\n",
    "                    self.process_mf(sp.xref, model.objects[sp.uid])\n",
    "   \n",
    "    \n",
    "    def process_components(self, components, pathway):\n",
    "        for obj in components:\n",
    "            mf = self.mf_map.get(obj.uid, None)\n",
    "\n",
    "            if mf is None:\n",
    "                continue\n",
    "\n",
    "            mf = self.add_instance_of_class(mf, is_anchor=True)\n",
    "\n",
    "            if self.bp_node is not None:\n",
    "                self.add_edge(mf, relations['part_of'], self.bp_node)\n",
    "\n",
    "            gp = self.add_instance_of_class(obj.display_name)\n",
    "            self.add_edge(mf, relations['enabled_by'], gp)\n",
    "\n",
    "            pc = model.objects[obj.uid]\n",
    "\n",
    "            if pc.left:\n",
    "                self.process_mols(pc.left, relations['has_input'], mf)\n",
    "\n",
    "            if pc.right:\n",
    "                self.process_mols(pc.right, relations['has_output'], mf)\n",
    "                \n",
    "                                        \n",
    "    def process_mf(self, xrefs, catalysis:pybiopax.biopax.Catalysis)    : \n",
    "        for xref in xrefs:\n",
    "            if xref.db == 'GENE ONTOLOGY':\n",
    "                self.mf_map[catalysis.controlled.uid] = xref.id\n",
    "                \n",
    "                \n",
    "    def process_bp(self, xrefs): \n",
    "        for xref in xrefs:\n",
    "            if xref.db == 'GENE ONTOLOGY':\n",
    "                bp = self.add_instance_of_class(xref.id)\n",
    "                self.bp_node = bp\n",
    "                \n",
    "\n",
    "    def process_mols(self, mols, relation, mf):\n",
    "        for mol in mols:\n",
    "            sm_node = self.add_instance_of_class(mol.display_name)\n",
    "            self.add_edge(mf, relation, sm_node)\n",
    "            \n",
    "    \n",
    "    def process_cc(self, xrefs): \n",
    "        pass\n",
    "    \n",
    "     \n",
    "gocam = GoCAM()\n",
    "for pathway in model.get_objects_by_type(pybiopax.biopax.Pathway):\n",
    "    gocam.process_pathway(pathway)\n"
   ]
  },
  {
   "cell_type": "code",
   "execution_count": 17,
   "id": "826636b0",
   "metadata": {},
   "outputs": [
    {
     "name": "stdout",
     "output_type": "stream",
     "text": [
      "Warning: When  cdn_resources is 'local' jupyter notebook has issues displaying graphics on chrome/safari. Use cdn_resources='in_line' or cdn_resources='remote' if you have issues viewing graphics in a notebook.\n",
      "nx.html\n"
     ]
    },
    {
     "data": {
      "text/html": [
       "\n",
       "        <iframe\n",
       "            width=\"100%\"\n",
       "            height=\"600px\"\n",
       "            src=\"nx.html\"\n",
       "            frameborder=\"0\"\n",
       "            allowfullscreen\n",
       "            \n",
       "        ></iframe>\n",
       "        "
      ],
      "text/plain": [
       "<IPython.lib.display.IFrame at 0x1f5b7902b20>"
      ]
     },
     "metadata": {},
     "output_type": "display_data"
    }
   ],
   "source": [
    "g = net.Network(notebook=True, directed=True)\n",
    "\n",
    "g.from_nx(gocam)\n",
    "for edge in g.edges:\n",
    "    edge['color'] = find_relation_meta(edge['relation'])['color']\n",
    "display(g.show('nx.html', notebook=True))"
   ]
  },
  {
   "cell_type": "code",
   "execution_count": 42,
   "id": "6fc09930",
   "metadata": {},
   "outputs": [
    {
     "name": "stdout",
     "output_type": "stream",
     "text": [
      "Pathway26234\n",
      "'Catalysis26386 -> -'\n",
      "\tBiochemicalReaction26361 -> --\n",
      "\t\tStoichiometry26314 -> ---\n",
      "\t\tStoichiometry26385 -> ---\n",
      "\t\tStoichiometry26339 -> ---\n",
      "\t\tStoichiometry26267 -> ---\n",
      "\t\tStoichiometry26370 -> ---\n",
      "'BiochemicalReaction26361 -> -'\n",
      "'Catalysis26354 -> -'\n",
      "\tBiochemicalReaction26323 -> --\n",
      "\t\tStoichiometry26314 -> ---\n",
      "\t\tStoichiometry26353 -> ---\n",
      "\t\tStoichiometry26339 -> ---\n",
      "\t\tStoichiometry26267 -> ---\n",
      "\t\tStoichiometry26253 -> ---\n",
      "'BiochemicalReaction26323 -> -'\n",
      "'BiochemicalReaction26238 -> -'\n",
      "'Catalysis26315 -> -'\n",
      "\tBiochemicalReaction26238 -> --\n",
      "\t\tStoichiometry26314 -> ---\n",
      "\t\tStoichiometry26301 -> ---\n",
      "\t\tStoichiometry26283 -> ---\n",
      "\t\tStoichiometry26267 -> ---\n",
      "\t\tStoichiometry26253 -> ---\n"
     ]
    }
   ],
   "source": [
    "# Yeast\n",
    "\n",
    "gocam = AnnotationSubgraph()\n",
    "for pathway in model.get_objects_by_type(pybiopax.biopax.Pathway):\n",
    "    name = pathway\n",
    "   \n",
    "    print(name.uid)  \n",
    "        \n",
    "    for pc in pathway.pathway_component:\n",
    "        pprint.pp('%s -> %s' % (pc.uid, '-'))\n",
    "        if isinstance(pc, pybiopax.biopax.Catalysis):\n",
    "            ctrl = pc.controlled\n",
    "            print('\\t%s -> %s' % (ctrl.uid, '--'))\n",
    "            for stoich in ctrl.participant_stoichiometry:\n",
    "                print('\\t\\t%s -> %s' % (stoich.uid, '---'))\n",
    "                stoich_obj = model.objects[stoich.uid]   \n",
    "                #pprint.pp(dir(stoich))\n",
    "                           \n",
    "       \n",
    "        \n",
    "   "
   ]
  },
  {
   "cell_type": "code",
   "execution_count": 207,
   "id": "fbe63a62",
   "metadata": {},
   "outputs": [
    {
     "name": "stdout",
     "output_type": "stream",
     "text": [
      "YeastCyc -> PROTON\n",
      "ChEBI -> CHEBI:15378\n",
      "YeastCyc -> INOSITOL-1-4-5-TRISPHOSPHATE\n",
      "ChEBI -> CHEBI:203600\n",
      "YeastCyc -> DIACYLGLYCEROL\n",
      "ChEBI -> CHEBI:17815\n",
      "YeastCyc -> WATER\n",
      "ChEBI -> CHEBI:15377\n",
      "YeastCyc -> PHOSPHATIDYL-MYO-INOSITOL-45-BISPHOSPHA\n",
      "YeastCyc -> PROTON\n",
      "ChEBI -> CHEBI:15378\n",
      "YeastCyc -> PHOSPHORYL-CHOLINE\n",
      "ChEBI -> CHEBI:295975\n",
      "YeastCyc -> DIACYLGLYCEROL\n",
      "ChEBI -> CHEBI:17815\n",
      "YeastCyc -> WATER\n",
      "ChEBI -> CHEBI:15377\n",
      "YeastCyc -> PHOSPHATIDYLCHOLINE\n",
      "ChEBI -> CHEBI:16110\n",
      "YeastCyc -> PROTON\n",
      "ChEBI -> CHEBI:15378\n",
      "YeastCyc -> CHOLINE\n",
      "ChEBI -> CHEBI:15354\n",
      "YeastCyc -> L-PHOSPHATIDATE\n",
      "ChEBI -> CHEBI:29089\n",
      "YeastCyc -> WATER\n",
      "ChEBI -> CHEBI:15377\n",
      "YeastCyc -> PHOSPHATIDYLCHOLINE\n",
      "ChEBI -> CHEBI:16110\n"
     ]
    }
   ],
   "source": [
    "pathway = model.objects['Pathway26234']\n",
    "objs = find_objects(pathway, 'pathway_component/controlled/participant_stoichiometry/physical_entity/entity_reference/xref/')\n",
    "for obj in objs:\n",
    "    if obj.db == 'YeastCyc':\n",
    "        print('%s -> %s' % (obj.db, obj.id))\n",
    "    if obj.db == 'ChEBI':\n",
    "        print('%s -> %s' % (obj.db, obj.id))"
   ]
  },
  {
   "cell_type": "code",
   "execution_count": 179,
   "id": "43a2f092",
   "metadata": {},
   "outputs": [],
   "source": [
    "def find_path(source_obj: BioPaxObject, target_obj: BioPaxObject) ->  List[BioPaxObject]:\n",
    "    if source_obj is target_obj:\n",
    "        return [source_obj.uid]\n",
    "\n",
    "    for attr_name in dir(source_obj):\n",
    "        attr_value = getattr(source_obj, attr_name)\n",
    "        if attr_value is target_obj:\n",
    "            return [source_obj.uid, target_obj.uid]\n",
    "        if isinstance(attr_value, list):\n",
    "            for obj in attr_value:\n",
    "                if isinstance(obj, BioPaxObject):\n",
    "                    path = find_path(obj, target_obj)\n",
    "                    if path:\n",
    "                        return [source_obj.uid] + path\n",
    "        if isinstance(attr_value, BioPaxObject):\n",
    "            path = find_path(attr_value, target_obj)\n",
    "            if path:\n",
    "                return [source_obj.uid] + path\n",
    "\n",
    "    return []"
   ]
  },
  {
   "cell_type": "code",
   "execution_count": 196,
   "id": "47b2cdb1",
   "metadata": {},
   "outputs": [],
   "source": [
    "def find_path_components(source_obj: BioPaxObject, target_obj: BioPaxObject) -> List[Tuple[BioPaxObject, str]]:\n",
    "  \n",
    "    if source_obj is target_obj:\n",
    "        return [(source_obj.uid, '--')]\n",
    "\n",
    "    for attr_name in dir(source_obj):\n",
    "        attr_value = getattr(source_obj, attr_name)\n",
    "        if attr_value is target_obj:\n",
    "            return [(source_obj.uid, attr_name), (target_obj.uid, attr_name)]\n",
    "        if isinstance(attr_value, list):\n",
    "            for obj in attr_value:\n",
    "                if isinstance(obj, BioPaxObject):\n",
    "                    path = find_path_components(obj, target_obj)\n",
    "                    if path:\n",
    "                        return [(source_obj.uid, attr_name)] + path\n",
    "        if isinstance(attr_value, BioPaxObject):\n",
    "            path = find_path_components(attr_value, target_obj)\n",
    "            if path:\n",
    "                return [(attr_value.uid, attr_name)] + path\n",
    "\n",
    "    return []\n"
   ]
  },
  {
   "cell_type": "code",
   "execution_count": 197,
   "id": "3d5a6ede",
   "metadata": {},
   "outputs": [
    {
     "name": "stdout",
     "output_type": "stream",
     "text": [
      "('Pathway26234', 'pathway_component')\n",
      "('BiochemicalReaction26361', 'controlled')\n",
      "('BiochemicalReaction26361', 'left')\n",
      "('CellularLocationVocabulary26240', 'cellular_location')\n",
      "('CellularLocationVocabulary26240', 'xref')\n",
      "('UnificationXref26241', '--')\n"
     ]
    }
   ],
   "source": [
    "source_obj = model.objects['Pathway26234']\n",
    "target_obj = model.objects['UnificationXref26241']\n",
    "\n",
    "path = find_path_components(source_obj, target_obj)\n",
    "\n",
    "if path:\n",
    "    for obj in path:\n",
    "        print(obj)\n",
    "else:\n",
    "    print(\"Path not found.\")\n",
    "    "
   ]
  },
  {
   "cell_type": "code",
   "execution_count": 208,
   "id": "01d4d49a",
   "metadata": {},
   "outputs": [
    {
     "name": "stdout",
     "output_type": "stream",
     "text": [
      "UnificationXref26241 GO:0005829\n"
     ]
    }
   ],
   "source": [
    "for uni in model.get_objects_by_type(pybiopax.biopax.UnificationXref):\n",
    "    if uni.db=='GO':\n",
    "        print(uni.uid, uni.id)"
   ]
  },
  {
   "cell_type": "code",
   "execution_count": 150,
   "id": "da529845",
   "metadata": {},
   "outputs": [
    {
     "name": "stdout",
     "output_type": "stream",
     "text": [
      "Pathway26234\n",
      "'Catalysis26386 -> None'\n",
      "['__class__',\n",
      " '__delattr__',\n",
      " '__dict__',\n",
      " '__dir__',\n",
      " '__doc__',\n",
      " '__eq__',\n",
      " '__format__',\n",
      " '__ge__',\n",
      " '__getattribute__',\n",
      " '__gt__',\n",
      " '__hash__',\n",
      " '__init__',\n",
      " '__init_subclass__',\n",
      " '__le__',\n",
      " '__lt__',\n",
      " '__module__',\n",
      " '__ne__',\n",
      " '__new__',\n",
      " '__reduce__',\n",
      " '__reduce_ex__',\n",
      " '__repr__',\n",
      " '__setattr__',\n",
      " '__sizeof__',\n",
      " '__str__',\n",
      " '__subclasshook__',\n",
      " '__weakref__',\n",
      " '_controlled_of',\n",
      " '_name',\n",
      " '_participant_of',\n",
      " '_pathway_component_of',\n",
      " '_simple_to_xml',\n",
      " '_step_process_of',\n",
      " 'availability',\n",
      " 'catalysis_direction',\n",
      " 'cofactor',\n",
      " 'comment',\n",
      " 'control_type',\n",
      " 'controlled',\n",
      " 'controlled_of',\n",
      " 'controller',\n",
      " 'data_source',\n",
      " 'display_name',\n",
      " 'evidence',\n",
      " 'from_xml',\n",
      " 'get_plain_names',\n",
      " 'interaction_type',\n",
      " 'list_types',\n",
      " 'name',\n",
      " 'participant',\n",
      " 'participant_of',\n",
      " 'pathway_component_of',\n",
      " 'standard_name',\n",
      " 'step_process_of',\n",
      " 'to_xml',\n",
      " 'uid',\n",
      " 'xml_types',\n",
      " 'xref']\n"
     ]
    },
    {
     "ename": "AttributeError",
     "evalue": "'Catalysis' object has no attribute 'left'",
     "output_type": "error",
     "traceback": [
      "\u001b[1;31m---------------------------------------------------------------------------\u001b[0m",
      "\u001b[1;31mAttributeError\u001b[0m                            Traceback (most recent call last)",
      "Cell \u001b[1;32mIn[150], line 21\u001b[0m\n\u001b[0;32m     17\u001b[0m pc \u001b[38;5;241m=\u001b[39m model\u001b[38;5;241m.\u001b[39mobjects[obj\u001b[38;5;241m.\u001b[39muid]\n\u001b[0;32m     19\u001b[0m pprint\u001b[38;5;241m.\u001b[39mpp(\u001b[38;5;28mdir\u001b[39m(pc))\n\u001b[1;32m---> 21\u001b[0m \u001b[38;5;28;01mfor\u001b[39;00m l \u001b[38;5;129;01min\u001b[39;00m \u001b[43mpc\u001b[49m\u001b[38;5;241;43m.\u001b[39;49m\u001b[43mleft\u001b[49m \u001b[38;5;129;01mor\u001b[39;00m []:\n\u001b[0;32m     22\u001b[0m     \u001b[38;5;28mprint\u001b[39m(\u001b[38;5;124m'\u001b[39m\u001b[38;5;130;01m\\t\u001b[39;00m\u001b[38;5;124m \u001b[39m\u001b[38;5;132;01m%s\u001b[39;00m\u001b[38;5;124m: \u001b[39m\u001b[38;5;132;01m%s\u001b[39;00m\u001b[38;5;124m -> \u001b[39m\u001b[38;5;132;01m%s\u001b[39;00m\u001b[38;5;124m'\u001b[39m \u001b[38;5;241m%\u001b[39m (\u001b[38;5;124m'\u001b[39m\u001b[38;5;124mL\u001b[39m\u001b[38;5;124m'\u001b[39m, l\u001b[38;5;241m.\u001b[39muid,  l\u001b[38;5;241m.\u001b[39mdisplay_name))\n\u001b[0;32m     24\u001b[0m \u001b[38;5;28;01mfor\u001b[39;00m r \u001b[38;5;129;01min\u001b[39;00m pc\u001b[38;5;241m.\u001b[39mright \u001b[38;5;129;01mor\u001b[39;00m []:\n",
      "\u001b[1;31mAttributeError\u001b[0m: 'Catalysis' object has no attribute 'left'"
     ]
    }
   ],
   "source": [
    "gocam = AnnotationSubgraph()\n",
    "for pathway in model.get_objects_by_type(pybiopax.biopax.Pathway):\n",
    "    name = pathway\n",
    "   \n",
    "    print(name.uid)\n",
    "    for obj in pathway.pathway_order:\n",
    "        pc = model.objects[obj.uid]   \n",
    "        for sp in pc.step_process:            \n",
    "            if isinstance (sp, pybiopax.biopax.Catalysis) and sp.control_type == 'ACTIVATION':\n",
    "                catalysis = model.objects[sp.uid]     \n",
    "                for xref in sp.xref:\n",
    "                    if(xref.db == 'GENE ONTOLOGY'):                        \n",
    "                        print('\\t %s: %s --> %s' % (catalysis.controlled.uid, 'MF', xref.id))\n",
    "        \n",
    "    for obj in pathway.pathway_component:\n",
    "        pprint.pp('%s -> %s' % (obj.uid, obj.display_name))\n",
    "        pc = model.objects[obj.uid]\n",
    "        \n",
    "        pprint.pp(dir(pc))\n",
    "                   \n",
    "        for l in pc.left or []:\n",
    "            print('\\t %s: %s -> %s' % ('L', l.uid,  l.display_name))\n",
    "            \n",
    "        for r in pc.right or []:\n",
    "            print('\\t %s: %s -> %s' % ('R', r.uid,  r.display_name))\n",
    "        \n"
   ]
  },
  {
   "cell_type": "markdown",
   "id": "ae03b1f4",
   "metadata": {},
   "source": [
    "\n",
    "\n",
    "\n",
    "\n",
    "\n",
    "\n",
    "\n",
    "\n",
    "\n",
    "\n",
    "\n",
    "\n",
    "\n",
    "\n",
    "\n",
    "\n",
    "\n",
    "\n",
    "\n",
    "\n",
    "\n",
    "\n",
    "\n",
    "\n",
    "\n",
    "\n",
    "\n",
    "\n",
    "\n",
    "\n",
    "\n",
    "\n",
    "\n",
    "\n"
   ]
  }
 ],
 "metadata": {
  "kernelspec": {
   "display_name": "Python 3 (ipykernel)",
   "language": "python",
   "name": "python3"
  },
  "language_info": {
   "codemirror_mode": {
    "name": "ipython",
    "version": 3
   },
   "file_extension": ".py",
   "mimetype": "text/x-python",
   "name": "python",
   "nbconvert_exporter": "python",
   "pygments_lexer": "ipython3",
   "version": "3.9.13"
  }
 },
 "nbformat": 4,
 "nbformat_minor": 5
}
