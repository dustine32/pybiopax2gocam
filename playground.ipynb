{
 "cells": [
  {
   "cell_type": "code",
   "execution_count": 2,
   "id": "66f669df",
   "metadata": {},
   "outputs": [],
   "source": [
    "import pybiopax\n",
    "from collections import Counter\n",
    "import pprint"
   ]
  },
  {
   "cell_type": "code",
   "execution_count": 3,
   "id": "fc8b1249",
   "metadata": {},
   "outputs": [
    {
     "name": "stderr",
     "output_type": "stream",
     "text": [
      "Processing OWL elements: 100%|██████████████████████████████████████████████████| 423/423 [00:00<00:00, 9.20kit/s]\n"
     ]
    }
   ],
   "source": [
    "biopax_file = './resources/test_biopax/R-HSA-204174_level3.owl'\n",
    "model = pybiopax.model_from_owl_file(biopax_file, encoding=\"utf8\")"
   ]
  },
  {
   "cell_type": "code",
   "execution_count": 4,
   "id": "afb591e9",
   "metadata": {},
   "outputs": [
    {
     "data": {
      "text/plain": [
       "[('UnificationXref', 160),\n",
       " ('Stoichiometry', 37),\n",
       " ('SequenceSite', 34),\n",
       " ('RelationshipXref', 25),\n",
       " ('PublicationXref', 24),\n",
       " ('Protein', 18),\n",
       " ('ProteinReference', 16),\n",
       " ('FragmentFeature', 16),\n",
       " ('SequenceInterval', 16),\n",
       " ('SmallMolecule', 15),\n",
       " ('SmallMoleculeReference', 15),\n",
       " ('Complex', 15),\n",
       " ('Control', 8),\n",
       " ('BiochemicalReaction', 4),\n",
       " ('RelationshipTypeVocabulary', 4),\n",
       " ('PathwayStep', 4),\n",
       " ('Catalysis', 3),\n",
       " ('CellularLocationVocabulary', 2),\n",
       " ('ModificationFeature', 2),\n",
       " ('Pathway', 1),\n",
       " ('Provenance', 1),\n",
       " ('BioSource', 1),\n",
       " ('SequenceModificationVocabulary', 1)]"
      ]
     },
     "execution_count": 4,
     "metadata": {},
     "output_type": "execute_result"
    }
   ],
   "source": [
    "stats = Counter([obj.__class__.__name__  for uid, obj in model.objects.items()]).most_common(100)\n",
    "stats"
   ]
  },
  {
   "cell_type": "code",
   "execution_count": null,
   "id": "6c02e3a3",
   "metadata": {},
   "outputs": [],
   "source": [
    "for protein in model.get_objects_by_type(pybiopax.biopax.Pathway):\n",
    "  \n",
    "    pprint.pp(dir(protein))\n",
    "    break\n",
    "   "
   ]
  },
  {
   "cell_type": "code",
   "execution_count": 9,
   "id": "d6e3fbbb",
   "metadata": {},
   "outputs": [
    {
     "name": "stdout",
     "output_type": "stream",
     "text": [
      "Pathway1\n",
      "'Pathway Order -> PathwayStep1'\n",
      "\t RelationshipXref4 --> GO:0019120\n",
      "'Pathway Order -> PathwayStep2'\n",
      "'Pathway Order -> PathwayStep3'\n",
      "\t RelationshipXref15 --> GO:0004740\n",
      "'Pathway Order -> PathwayStep4'\n",
      "\t RelationshipXref22 --> GO:0004741\n",
      "'BiochemicalReaction1 -> GSTZ1 dimer dehalogenates DCA to glyoxylate'\n",
      "\t has_input -> H2O\n",
      "\t has_input -> DCA\n",
      "\t has_output --> glyoxylate\n",
      "\t has_output --> HCl\n",
      "'BiochemicalReaction2 -> DCA binds PDK2'\n",
      "\t has_input -> PDK2\n",
      "\t has_input -> DCA\n",
      "\t has_output --> DCA:PDK2\n",
      "'BiochemicalReaction3 -> PDK isoforms phosphorylate lipo-PDH'\n",
      "\t has_input -> ATP\n",
      "\t has_input -> lipo-PDH\n",
      "\t has_output --> ADP\n",
      "\t has_output --> p-lipo-PDH\n",
      "'BiochemicalReaction4 -> PDP dephosphorylates p-lipo-PDH'\n",
      "\t has_input -> p-lipo-PDH\n",
      "\t has_input -> H2O\n",
      "\t has_output --> lipo-PDH\n",
      "\t has_output --> Pi\n"
     ]
    }
   ],
   "source": [
    "for pathway in model.get_objects_by_type(pybiopax.biopax.Pathway):\n",
    "    name = pathway\n",
    "    print(name.uid)\n",
    "    for obj in pathway.pathway_order:\n",
    "        pprint.pp('%s -> %s' % ('Pathway Order', obj.uid))\n",
    "        \n",
    "        pc = model.objects[obj.uid]   \n",
    "        #pprint.pp(pc.__dict__)\n",
    "        for sp in pc.step_process:            \n",
    "            if isinstance (sp, pybiopax.biopax.Catalysis) and sp.control_type == 'ACTIVATION':\n",
    "                catalysis = model.objects[sp.uid]     \n",
    "                for xref in sp.xref:\n",
    "                    if(xref.db == 'GENE ONTOLOGY'):\n",
    "                        print('\\t %s --> %s' % (xref.uid, xref.id))\n",
    "        \n",
    "    for obj in pathway.pathway_component:\n",
    "        pprint.pp('%s -> %s' % (obj.uid, obj.display_name))\n",
    "        pc = model.objects[obj.uid]\n",
    "                   \n",
    "        for l in pc.left:\n",
    "            print('\\t %s -> %s' % ('has_input',  l.display_name))\n",
    "            \n",
    "        for r in pc.right:\n",
    "            print('\\t %s --> %s' % ('has_output',  r.display_name))\n",
    "        \n",
    "   "
   ]
  }
 ],
 "metadata": {
  "kernelspec": {
   "display_name": "Python 3 (ipykernel)",
   "language": "python",
   "name": "python3"
  },
  "language_info": {
   "codemirror_mode": {
    "name": "ipython",
    "version": 3
   },
   "file_extension": ".py",
   "mimetype": "text/x-python",
   "name": "python",
   "nbconvert_exporter": "python",
   "pygments_lexer": "ipython3",
   "version": "3.9.13"
  }
 },
 "nbformat": 4,
 "nbformat_minor": 5
}
