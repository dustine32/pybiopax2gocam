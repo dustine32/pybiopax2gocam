{
 "cells": [
  {
   "cell_type": "code",
   "execution_count": 1,
   "id": "66f669df",
   "metadata": {},
   "outputs": [],
   "source": [
    "import pybiopax\n",
    "import networkx as nx\n",
    "import matplotlib.pyplot as plt\n",
    "from pyvis import network as net\n",
    "from networkx.drawing.nx_pydot import graphviz_layout\n",
    "from collections import Counter\n",
    "from ontobio.rdfgen.gocamgen.subgraphs import AnnotationSubgraph\n",
    "import pprint\n",
    "from base import relations, find_relation_meta\n"
   ]
  },
  {
   "cell_type": "code",
   "execution_count": 14,
   "id": "fc8b1249",
   "metadata": {},
   "outputs": [
    {
     "data": {
      "application/vnd.jupyter.widget-view+json": {
       "model_id": "cf72ced2f17541cc8e0cf01e84ea92eb",
       "version_major": 2,
       "version_minor": 0
      },
      "text/plain": [
       "Processing OWL elements:   0%|          | 0.00/423 [00:00<?, ?it/s]"
      ]
     },
     "metadata": {},
     "output_type": "display_data"
    }
   ],
   "source": [
    "biopax_file = './resources/test_biopax/R-HSA-204174_level3.owl'\n",
    "#biopax_file = './resources/test_biopax/R-HSA-70171_level3.owl'\n",
    "model = pybiopax.model_from_owl_file(biopax_file, encoding=\"utf8\")"
   ]
  },
  {
   "cell_type": "markdown",
   "id": "85f28882",
   "metadata": {},
   "source": [
    "### Check the most common objects and take note on Pathway"
   ]
  },
  {
   "cell_type": "code",
   "execution_count": 15,
   "id": "afb591e9",
   "metadata": {},
   "outputs": [
    {
     "data": {
      "text/plain": [
       "[('UnificationXref', 160),\n",
       " ('Stoichiometry', 37),\n",
       " ('SequenceSite', 34),\n",
       " ('RelationshipXref', 25),\n",
       " ('PublicationXref', 24),\n",
       " ('Protein', 18),\n",
       " ('ProteinReference', 16),\n",
       " ('FragmentFeature', 16),\n",
       " ('SequenceInterval', 16),\n",
       " ('SmallMolecule', 15),\n",
       " ('SmallMoleculeReference', 15),\n",
       " ('Complex', 15),\n",
       " ('Control', 8),\n",
       " ('BiochemicalReaction', 4),\n",
       " ('RelationshipTypeVocabulary', 4),\n",
       " ('PathwayStep', 4),\n",
       " ('Catalysis', 3),\n",
       " ('CellularLocationVocabulary', 2),\n",
       " ('ModificationFeature', 2),\n",
       " ('Pathway', 1),\n",
       " ('Provenance', 1),\n",
       " ('BioSource', 1),\n",
       " ('SequenceModificationVocabulary', 1)]"
      ]
     },
     "execution_count": 15,
     "metadata": {},
     "output_type": "execute_result"
    }
   ],
   "source": [
    "stats = Counter([obj.__class__.__name__  for uid, obj in model.objects.items()]).most_common(100)\n",
    "stats"
   ]
  },
  {
   "cell_type": "code",
   "execution_count": 16,
   "id": "cd762f69",
   "metadata": {},
   "outputs": [],
   "source": [
    "\n",
    "class GoCAM (AnnotationSubgraph):\n",
    "    def __init__(self):\n",
    "        self.bp_node = None\n",
    "        self.mf_map = {}\n",
    "        super().__init__()\n",
    "\n",
    "    def process_pathway(self, pathway):        \n",
    "            \n",
    "        if pathway.xref:\n",
    "            self.process_bp(pathway.xref)\n",
    "\n",
    "        if pathway.pathway_order:\n",
    "            self.process_step_processes(pathway.pathway_order, pathway)\n",
    "        \n",
    "        if pathway.pathway_component:\n",
    "            self.process_components(pathway.pathway_component, pathway)\n",
    "\n",
    "    \n",
    "    def process_step_processes(self, step_processes, pathway):\n",
    "        for obj in step_processes:\n",
    "            pc = model.objects[obj.uid]\n",
    "            for sp in pc.step_process:\n",
    "                if isinstance(sp, pybiopax.biopax.Catalysis) and sp.control_type == 'ACTIVATION':\n",
    "                    self.process_mf(sp.xref, model.objects[sp.uid])\n",
    "   \n",
    "    \n",
    "    def process_components(self, components, pathway):\n",
    "        for obj in components:\n",
    "            mf = self.mf_map.get(obj.uid, None)\n",
    "\n",
    "            if mf is None:\n",
    "                continue\n",
    "\n",
    "            mf = self.add_instance_of_class(mf, is_anchor=True)\n",
    "\n",
    "            if self.bp_node is not None:\n",
    "                self.add_edge(mf, relations['part_of'], self.bp_node)\n",
    "\n",
    "            gp = self.add_instance_of_class(obj.display_name)\n",
    "            self.add_edge(mf, relations['enabled_by'], gp)\n",
    "\n",
    "            pc = model.objects[obj.uid]\n",
    "\n",
    "            if pc.left:\n",
    "                self.process_mols(pc.left, relations['has_input'], mf)\n",
    "\n",
    "            if pc.right:\n",
    "                self.process_mols(pc.right, relations['has_output'], mf)\n",
    "                \n",
    "                                        \n",
    "    def process_mf(self, xrefs, catalysis:pybiopax.biopax.Catalysis)    : \n",
    "        for xref in xrefs:\n",
    "            if xref.db == 'GENE ONTOLOGY':\n",
    "                self.mf_map[catalysis.controlled.uid] = xref.id\n",
    "                \n",
    "                \n",
    "    def process_bp(self, xrefs): \n",
    "        for xref in xrefs:\n",
    "            if xref.db == 'GENE ONTOLOGY':\n",
    "                bp = self.add_instance_of_class(xref.id)\n",
    "                self.bp_node = bp\n",
    "                \n",
    "\n",
    "    def process_mols(self, mols, relation, mf):\n",
    "        for mol in mols:\n",
    "            sm_node = self.add_instance_of_class(mol.display_name)\n",
    "            self.add_edge(mf, relation, sm_node)\n",
    "            \n",
    "    \n",
    "    def process_cc(self, xrefs): \n",
    "        pass\n",
    "    \n",
    "     \n",
    "gocam = GoCAM()\n",
    "for pathway in model.get_objects_by_type(pybiopax.biopax.Pathway):\n",
    "    gocam.process_pathway(pathway)\n"
   ]
  },
  {
   "cell_type": "code",
   "execution_count": 17,
   "id": "826636b0",
   "metadata": {},
   "outputs": [
    {
     "name": "stdout",
     "output_type": "stream",
     "text": [
      "Warning: When  cdn_resources is 'local' jupyter notebook has issues displaying graphics on chrome/safari. Use cdn_resources='in_line' or cdn_resources='remote' if you have issues viewing graphics in a notebook.\n",
      "nx.html\n"
     ]
    },
    {
     "data": {
      "text/html": [
       "\n",
       "        <iframe\n",
       "            width=\"100%\"\n",
       "            height=\"600px\"\n",
       "            src=\"nx.html\"\n",
       "            frameborder=\"0\"\n",
       "            allowfullscreen\n",
       "            \n",
       "        ></iframe>\n",
       "        "
      ],
      "text/plain": [
       "<IPython.lib.display.IFrame at 0x1bb0fa26b20>"
      ]
     },
     "execution_count": 17,
     "metadata": {},
     "output_type": "execute_result"
    }
   ],
   "source": [
    "g = net.Network(notebook=True, directed=True)\n",
    "\n",
    "g.from_nx(gocam)\n",
    "for edge in g.edges:\n",
    "    edge['color'] = find_relation_meta(edge['relation'])['color']\n",
    "g.show('nx.html', notebook=True)"
   ]
  },
  {
   "cell_type": "code",
   "execution_count": 25,
   "id": "6fc09930",
   "metadata": {},
   "outputs": [
    {
     "name": "stdout",
     "output_type": "stream",
     "text": [
      "Pathway1\n",
      "\t BiochemicalReaction1: MF --> GO:0019120\n",
      "\t BiochemicalReaction3: MF --> GO:0004740\n",
      "\t BiochemicalReaction4: MF --> GO:0004741\n",
      "'BiochemicalReaction1 -> GSTZ1 dimer dehalogenates DCA to glyoxylate'\n",
      "\t L: SmallMolecule1 -> H2O\n",
      "\t L: SmallMolecule2 -> DCA\n",
      "\t R: SmallMolecule3 -> glyoxylate\n",
      "\t R: SmallMolecule4 -> HCl\n",
      "'BiochemicalReaction2 -> DCA binds PDK2'\n",
      "\t L: Protein2 -> PDK2\n",
      "\t L: SmallMolecule2 -> DCA\n",
      "\t R: Complex2 -> DCA:PDK2\n",
      "'BiochemicalReaction3 -> PDK isoforms phosphorylate lipo-PDH'\n",
      "\t L: SmallMolecule6 -> ATP\n",
      "\t L: Complex3 -> lipo-PDH\n",
      "\t R: SmallMolecule9 -> ADP\n",
      "\t R: Complex8 -> p-lipo-PDH\n",
      "'BiochemicalReaction4 -> PDP dephosphorylates p-lipo-PDH'\n",
      "\t L: Complex8 -> p-lipo-PDH\n",
      "\t L: SmallMolecule1 -> H2O\n",
      "\t R: Complex3 -> lipo-PDH\n",
      "\t R: SmallMolecule14 -> Pi\n"
     ]
    }
   ],
   "source": [
    "gocam = AnnotationSubgraph()\n",
    "for pathway in model.get_objects_by_type(pybiopax.biopax.Pathway):\n",
    "    name = pathway\n",
    "   \n",
    "    print(name.uid)\n",
    "    for obj in pathway.pathway_order:\n",
    "        pc = model.objects[obj.uid]   \n",
    "        for sp in pc.step_process:            \n",
    "            if isinstance (sp, pybiopax.biopax.Catalysis) and sp.control_type == 'ACTIVATION':\n",
    "                catalysis = model.objects[sp.uid]     \n",
    "                for xref in sp.xref:\n",
    "                    if(xref.db == 'GENE ONTOLOGY'):                        \n",
    "                        print('\\t %s: %s --> %s' % (catalysis.controlled.uid, 'MF', xref.id))\n",
    "        \n",
    "    for obj in pathway.pathway_component:\n",
    "        pprint.pp('%s -> %s' % (obj.uid, obj.display_name))\n",
    "        pc = model.objects[obj.uid]\n",
    "                   \n",
    "        for l in pc.left:\n",
    "            print('\\t %s: %s -> %s' % ('L', l.uid,  l.display_name))\n",
    "            \n",
    "        for r in pc.right:\n",
    "            print('\\t %s: %s -> %s' % ('R', r.uid,  r.display_name))\n",
    "        \n",
    "   "
   ]
  },
  {
   "cell_type": "code",
   "execution_count": null,
   "id": "47b2cdb1",
   "metadata": {},
   "outputs": [],
   "source": []
  }
 ],
 "metadata": {
  "kernelspec": {
   "display_name": "Python 3 (ipykernel)",
   "language": "python",
   "name": "python3"
  },
  "language_info": {
   "codemirror_mode": {
    "name": "ipython",
    "version": 3
   },
   "file_extension": ".py",
   "mimetype": "text/x-python",
   "name": "python",
   "nbconvert_exporter": "python",
   "pygments_lexer": "ipython3",
   "version": "3.9.13"
  }
 },
 "nbformat": 4,
 "nbformat_minor": 5
}
